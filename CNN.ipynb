{
 "cells": [
  {
   "cell_type": "code",
   "execution_count": null,
   "metadata": {
    "collapsed": false
   },
   "outputs": [],
   "source": [
    "rm -rf *.pyc"
   ]
  },
  {
   "cell_type": "code",
   "execution_count": 1,
   "metadata": {
    "collapsed": false
   },
   "outputs": [
    {
     "name": "stderr",
     "output_type": "stream",
     "text": [
      "Using gpu device 0: GeForce GTX 960 (CNMeM is disabled, cuDNN 5005)\n",
      "/usr/local/lib/python2.7/dist-packages/theano/tensor/signal/downsample.py:6: UserWarning: downsample module has been moved to the theano.tensor.signal.pool module.\n",
      "  \"downsample module has been moved to the theano.tensor.signal.pool module.\")\n"
     ]
    }
   ],
   "source": [
    "from CNN import data_set,reinitiate_set_params,build_update_functions\n",
    "from sklearn.cross_validation import train_test_split\n",
    "import theano\n",
    "import theano.tensor as T\n",
    "import numpy as  np\n",
    "from faceKeySrc import shared_dataset\n",
    "import time\n",
    "import lasagne"
   ]
  },
  {
   "cell_type": "code",
   "execution_count": 2,
   "metadata": {
    "collapsed": true
   },
   "outputs": [],
   "source": [
    "# path to train and testing data\n",
    "PATH_train = \"../data/training.csv\"\n",
    "PATH_test = \"../data/test.csv\""
   ]
  },
  {
   "cell_type": "markdown",
   "metadata": {
    "collapsed": true
   },
   "source": [
    "### Pre-processing notes\n",
    "    For zero centering data X -= np.mean(X,axis=0) if X [NxD] for N samples and D features\n",
    "    For normalisation X/= np.std(X,axis=0) if X [NxD] for N samples of length D\n",
    "    Also decorrelated, via PCA: Data has diagonal covariance matrix\n",
    "    or Whitened: data has identity covariance matrix\n",
    "\n",
    "### NOTE from cs231n: for images use centering only\n",
    "    1. Subtract the mean image; for cifar10 subtract [32x32x3] as Alexnet\n",
    "    2. or like VGG subtract per-channel , 3 numbers\n",
    "    3. Apply whitening"
   ]
  },
  {
   "cell_type": "code",
   "execution_count": 3,
   "metadata": {
    "collapsed": false
   },
   "outputs": [
    {
     "name": "stdout",
     "output_type": "stream",
     "text": [
      "4909 samples from the total of 7049 have missing values\n",
      "Missing values appear in 28 different columns of output targets\n",
      "shape of X (7049, 9216) and y (7049, 30)\n"
     ]
    }
   ],
   "source": [
    "data = data_set(path_train=PATH_train, path_test=PATH_test)"
   ]
  },
  {
   "cell_type": "code",
   "execution_count": 4,
   "metadata": {
    "collapsed": false
   },
   "outputs": [
    {
     "name": "stdout",
     "output_type": "stream",
     "text": [
      "shape of X (2140, 9216) and y (2140, 30)\n",
      "Training data has been centered alexnet style\n"
     ]
    }
   ],
   "source": [
    "#  drop the missing values\n",
    "data.drop_missing_values()\n",
    "# center data VGG style\n",
    "data.center_alexnet()"
   ]
  },
  {
   "cell_type": "code",
   "execution_count": 5,
   "metadata": {
    "collapsed": false
   },
   "outputs": [],
   "source": [
    "# generate test validation split\n",
    "train_set_x, valid_set_x, train_set_y, valid_set_y = train_test_split(\n",
    "    data.X, data.y, test_size=0.2, random_state=42)"
   ]
  },
  {
   "cell_type": "code",
   "execution_count": 6,
   "metadata": {
    "collapsed": false
   },
   "outputs": [],
   "source": [
    "train_set_x = train_set_x.reshape(-1,1,96,96).astype(theano.config.floatX)\n",
    "valid_set_x = valid_set_x.reshape(-1,1,96,96).astype(theano.config.floatX)\n",
    "train_set_y = train_set_y.astype(theano.config.floatX)\n",
    "valid_set_y = valid_set_y.astype(theano.config.floatX)\n"
   ]
  },
  {
   "cell_type": "markdown",
   "metadata": {},
   "source": [
    "### small CNN"
   ]
  },
  {
   "cell_type": "code",
   "execution_count": null,
   "metadata": {
    "collapsed": false
   },
   "outputs": [],
   "source": [
    "# train the network\n",
    "# parasms \n",
    "n_iter = 10000\n",
    "improvement_threshold = 0.999\n",
    "patience = 10000\n",
    "max_fail = 10\n",
    "#######################\n",
    "batch_size = 128\n",
    "n_train_batches = train_set_x.get_value(borrow=True).shape[0] // batch_size+1\n",
    "n_valid_batches = valid_set_x.get_value(borrow=True).shape[0] // batch_size+1\n",
    "patience_increase=.2\n",
    "validation_frequency = min(n_train_batches, patience // 10)\n",
    "best_val_loss_ = np.inf\n",
    "train_loss_history_temp = []\n",
    "########################\n",
    "n_fail_ = 0\n",
    "best_val_loss_ = np.inf\n",
    "best_epoch_ = 0 \n",
    "epoch = 0\n",
    "done_looping = False\n",
    "train_loss_history_ = []\n",
    "val_loss_history_ =[]"
   ]
  },
  {
   "cell_type": "code",
   "execution_count": null,
   "metadata": {
    "collapsed": false
   },
   "outputs": [],
   "source": [
    "print 'HERE'"
   ]
  },
  {
   "cell_type": "code",
   "execution_count": null,
   "metadata": {
    "collapsed": false
   },
   "outputs": [],
   "source": [
    "start_time = time.time()\n",
    "while (epoch < n_iter) and (not done_looping):\n",
    "    epoch +=1\n",
    "    \n",
    "    # go over minibatches\n",
    "    for minibatch_index in range(n_train_batches):\n",
    "        \n",
    "        # update network for one minibatch\n",
    "        minibatch_average_cost,minibatch_average_RMSE = train_fn(minibatch_index)\n",
    "        \n",
    "        # store training loss of minibatches till the next validation step\n",
    "        train_loss_history_temp.append(minibatch_average_RMSE)\n",
    "        \n",
    "        # number of minibatches checked\n",
    "        num_minibatch_checked = (epoch -1) * n_train_batches + minibatch_index\n",
    "        \n",
    "        # if validation interval reached\n",
    "        if (num_minibatch_checked+1 ) % validation_frequency ==0:\n",
    "            \n",
    "            # compute validation loss\n",
    "            validation_losses = [val_fn(i)[0] for i in range(n_valid_batches)]\n",
    "            \n",
    "            # store mean validation loss for validation set\n",
    "            current_val_loss = np.mean(validation_losses)\n",
    "            \n",
    "            # store training and validation history\n",
    "            train_loss_history_.append(np.mean(train_loss_history_temp))\n",
    "            val_loss_history_.append(current_val_loss)\n",
    "            train_loss_history_temp = []\n",
    "\n",
    "            # is it the best validation loss sofar?\n",
    "            if current_val_loss < best_val_loss_ :\n",
    "                \n",
    "                # increase patience if improvement is significant\n",
    "                if (current_val_loss < best_val_loss_*improvement_threshold):\n",
    "                    patience = max(patience, num_minibatch_checked* patience_increase )\n",
    "                \n",
    "                # save the-sofar-best validation RMSE and epoch and model-params\n",
    "                best_val_loss_ = current_val_loss\n",
    "                best_epoch_ = epoch\n",
    "                best_network_params = lasagne.layers.get_all_param_values(network)\n",
    "                \n",
    "        # check if patience exceeded and set the training loop to stop\n",
    "        if (patience <= num_minibatch_checked):\n",
    "            print 'patience reached'\n",
    "            # reset the network weights to the best params saved\n",
    "            print 'reseting the network params to that of the best seen'\n",
    "            reinitiate_set_params(network=network,\n",
    "                                  weights = best_network_params)\n",
    "            # done optimising, break the optimisation loop\n",
    "            done_looping = True\n",
    "            break\n",
    "   \n",
    "    # print out results of optimising priodically\n",
    "#     if num_minibatch_checked<1000:\n",
    "#         freq = 200\n",
    "#     elif num_minibatch_checked<5000:\n",
    "#         freq = 500\n",
    "#     elif num_minibatch_checked<10000:\n",
    "#         freq = 1000\n",
    "    freq = 10\n",
    "        \n",
    "    if (epoch % freq) == 0:\n",
    "        print (('epoch %i, minibatch %i/%i, validation loss of %f, patience %i, in %f secs')%\n",
    "               (epoch, minibatch_index+1, n_train_batches, current_val_loss, patience, time.time()-start_time ))\n",
    "        start_time = time.time()\n",
    "                \n",
    "        "
   ]
  },
  {
   "cell_type": "code",
   "execution_count": 11,
   "metadata": {
    "collapsed": false
   },
   "outputs": [
    {
     "name": "stdout",
     "output_type": "stream",
     "text": [
      "NAME            TYPE           \n",
      "------------   ------------\n",
      "PATH_test       str            \n",
      "PATH_train      str            \n",
      "X               TensorVariable \n",
      "data            data_set       \n",
      "net             dict           \n",
      "network         NonlinearityLayer\n",
      "num_output      int            \n",
      "train_set_x     ndarray        \n",
      "train_set_y     ndarray        \n",
      "valid_set_x     ndarray        \n",
      "valid_set_y     ndarray        \n",
      "y               TensorVariable \n"
     ]
    }
   ],
   "source": [
    "# print out variables in the work space\n",
    "from types import ModuleType, FunctionType, TypeType\n",
    "variables = %who_ls\n",
    "Types_to_exclude = (ModuleType, FunctionType, TypeType)\n",
    "variables_to_exclude = ('v','variables','Types_to_exclude','variables_to_exclude')\n",
    "print '{:<15} {:<15}'.format('NAME', 'TYPE')\n",
    "print '------------   ------------'\n",
    "for v in variables:\n",
    "    if not isinstance(eval(v), Types_to_exclude) and not str(v) in variables_to_exclude:\n",
    "        print '{:<15} {:<15}'.format(v, type(eval(v)).__name__)\n"
   ]
  }
 ],
 "metadata": {
  "kernelspec": {
   "display_name": "Python 2",
   "language": "python",
   "name": "python2"
  },
  "language_info": {
   "codemirror_mode": {
    "name": "ipython",
    "version": 2
   },
   "file_extension": ".py",
   "mimetype": "text/x-python",
   "name": "python",
   "nbconvert_exporter": "python",
   "pygments_lexer": "ipython2",
   "version": "2.7.6"
  }
 },
 "nbformat": 4,
 "nbformat_minor": 0
}
