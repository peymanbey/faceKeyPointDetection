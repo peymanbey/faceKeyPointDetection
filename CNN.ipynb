{
 "cells": [
  {
   "cell_type": "code",
   "execution_count": 1,
   "metadata": {
    "collapsed": true
   },
   "outputs": [],
   "source": [
    "import pandas as pd\n",
    "import numpy as np\n",
    "from os.path import expanduser"
   ]
  },
  {
   "cell_type": "code",
   "execution_count": 2,
   "metadata": {
    "collapsed": true
   },
   "outputs": [],
   "source": [
    "# path to train and testing data\n",
    "PATH_train = \"../data/training.csv\"\n",
    "PATH_test = \"../data/test.csv\""
   ]
  },
  {
   "cell_type": "code",
   "execution_count": 41,
   "metadata": {
    "collapsed": true
   },
   "outputs": [],
   "source": [
    "# load the csv into pandas data frame\n",
    "df = pd.read_csv(expanduser(PATH_train))"
   ]
  },
  {
   "cell_type": "code",
   "execution_count": 42,
   "metadata": {
    "collapsed": false
   },
   "outputs": [],
   "source": [
    "# the output variables value for each sample is stored as ' ' separated string\n",
    "# use apply for the colmun Image of the data frame to convert the values into\n",
    "# numbers\n",
    "# after conversion the entry for the Image column associated with each sample\n",
    "# is a numpy vector of shape (9216 ,). Each original image is of size (96x96)\n",
    "df['Image'] = df['Image'].apply(lambda im: np.fromstring(im, sep=' '))"
   ]
  },
  {
   "cell_type": "code",
   "execution_count": 87,
   "metadata": {
    "collapsed": false
   },
   "outputs": [
    {
     "name": "stdout",
     "output_type": "stream",
     "text": [
      "4909 samples from the total of 7049 have missing values\n",
      "Missing values appear in 28 different columns of output targets\n"
     ]
    }
   ],
   "source": [
    "# Check if there is any missing value\n",
    "print '{} samples from the total of {} have missing values'.format(\n",
    "    df.isnull().any(axis=1).sum(),df.shape[0])\n",
    "print 'Missing values appear in {} different columns of output targets'.format(\n",
    "    df.isnull().any(axis=0).sum())"
   ]
  },
  {
   "cell_type": "code",
   "execution_count": 103,
   "metadata": {
    "collapsed": true
   },
   "outputs": [],
   "source": [
    "# Handle missing values\n",
    "# Fisrt Implementation 2.a: Exclude missing values\n",
    "# Droping all the samples with NaN values, only 2140 samples remain\n",
    "df = df.dropna()"
   ]
  },
  {
   "cell_type": "code",
   "execution_count": 108,
   "metadata": {
    "collapsed": false
   },
   "outputs": [
    {
     "name": "stdout",
     "output_type": "stream",
     "text": [
      "type of X:<type 'numpy.ndarray'> and its size:(2140, 9216)\n",
      "Values of X max:255.0 min:0.0\n",
      "Type of Y:<type 'numpy.ndarray'> and its size\"(2140, 30)\n",
      "Value of columns max:95.8089831215 min:3.82624305628\n"
     ]
    }
   ],
   "source": [
    "# Extract X and Y\n",
    "X = df['Image'].values\n",
    "X = np.vstack(X)\n",
    "# print X\n",
    "print 'type of X:{} and its size:{}'.format(type(X), X.shape)\n",
    "print 'Values of X max:{} min:{}'.format(X.max(), X.min())\n",
    "\n",
    "# Only for training data \n",
    "Y = df[df_no_NaN.columns[:-1]].values\n",
    "print 'Type of Y:{} and its size\"{}'.format(type(Y), Y.shape)\n",
    "print 'Value of columns max:{} min:{}'.format(Y.max(),Y.min())"
   ]
  },
  {
   "cell_type": "code",
   "execution_count": null,
   "metadata": {
    "collapsed": true
   },
   "outputs": [],
   "source": []
  },
  {
   "cell_type": "code",
   "execution_count": 95,
   "metadata": {
    "collapsed": false
   },
   "outputs": [
    {
     "name": "stdout",
     "output_type": "stream",
     "text": [
      "ModuleType           <type 'type'>       \n",
      "PATH_test            <type 'str'>        \n",
      "PATH_train           <type 'str'>        \n",
      "X                    <type 'numpy.ndarray'>\n",
      "df                   <class 'pandas.core.frame.DataFrame'>\n",
      "df_no_NaN            <class 'pandas.core.frame.DataFrame'>\n",
      "expanduser           <type 'function'>   \n",
      "v                    <type 'str'>        \n",
      "variables            <type 'list'>       \n"
     ]
    }
   ],
   "source": [
    "# print out variables in the work space\n",
    "from types import ModuleType\n",
    "variables = %who_ls\n",
    "for v in variables:\n",
    "    if not isinstance(eval(v), ModuleType):\n",
    "        print '{:<20} {:<20}'.format(v, type(eval(v)))"
   ]
  }
 ],
 "metadata": {
  "kernelspec": {
   "display_name": "Python 2",
   "language": "python",
   "name": "python2"
  },
  "language_info": {
   "codemirror_mode": {
    "name": "ipython",
    "version": 2
   },
   "file_extension": ".py",
   "mimetype": "text/x-python",
   "name": "python",
   "nbconvert_exporter": "python",
   "pygments_lexer": "ipython2",
   "version": "2.7.6"
  }
 },
 "nbformat": 4,
 "nbformat_minor": 0
}
