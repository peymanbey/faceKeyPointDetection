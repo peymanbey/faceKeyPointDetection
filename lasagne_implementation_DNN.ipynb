{
 "cells": [
  {
   "cell_type": "code",
   "execution_count": 1,
   "metadata": {
    "collapsed": false
   },
   "outputs": [
    {
     "name": "stderr",
     "output_type": "stream",
     "text": [
      "Using gpu device 0: GeForce GTX 960 (CNMeM is disabled, cuDNN 5005)\n",
      "/usr/local/lib/python2.7/dist-packages/theano/tensor/signal/downsample.py:6: UserWarning: downsample module has been moved to the theano.tensor.signal.pool module.\n",
      "  \"downsample module has been moved to the theano.tensor.signal.pool module.\")\n"
     ]
    }
   ],
   "source": [
    "import time\n",
    "from faceKeySrc import load_data,shared_dataset\n",
    "import numpy as np\n",
    "from sklearn.cross_validation import train_test_split\n",
    "import lasagne\n",
    "import theano.tensor as T\n",
    "import theano\n",
    "import matplotlib.pyplot as plt\n",
    "from matplotlib import style\n",
    "%matplotlib inline"
   ]
  },
  {
   "cell_type": "code",
   "execution_count": 2,
   "metadata": {
    "collapsed": true
   },
   "outputs": [],
   "source": [
    "style.use('seaborn-whitegrid')"
   ]
  },
  {
   "cell_type": "code",
   "execution_count": 3,
   "metadata": {
    "collapsed": false
   },
   "outputs": [
    {
     "name": "stdout",
     "output_type": "stream",
     "text": [
      "just drop all the samples with missing values, consider a better approach\n"
     ]
    }
   ],
   "source": [
    "FTRAIN = '../data/training.csv'\n",
    "FTEST = '../data/test.csv'\n",
    "# load training data\n",
    "data_X, data_Y = load_data(FTRAIN)"
   ]
  },
  {
   "cell_type": "code",
   "execution_count": 4,
   "metadata": {
    "collapsed": false
   },
   "outputs": [],
   "source": [
    "# generate test validation split\n",
    "train_set_x, valid_set_x, train_set_y, valid_set_y = train_test_split(\n",
    "    data_X, data_Y, test_size=0.3, random_state=42\n",
    ")"
   ]
  },
  {
   "cell_type": "code",
   "execution_count": 5,
   "metadata": {
    "collapsed": false
   },
   "outputs": [],
   "source": [
    "train_set_x = train_set_x.astype(theano.config.floatX)\n",
    "train_set_y = train_set_y.astype(theano.config.floatX)\n",
    "valid_set_x = valid_set_x.astype(theano.config.floatX)\n",
    "valid_set_y = valid_set_y.astype(theano.config.floatX)\n",
    "#########################################\n",
    "# try it later to see if it improves the performance\n",
    "# store traiing data into shared variable\n",
    "train_set_x, train_set_y = shared_dataset(train_set_x, train_set_y)\n",
    "valid_set_x, valid_set_y = shared_dataset(valid_set_x, valid_set_y)"
   ]
  },
  {
   "cell_type": "markdown",
   "metadata": {},
   "source": [
    "### linear regression with multiple outputs"
   ]
  },
  {
   "cell_type": "code",
   "execution_count": 6,
   "metadata": {
    "collapsed": false
   },
   "outputs": [],
   "source": [
    "def build__model(width,\n",
    "                 num_output,\n",
    "                 drop_input= None,\n",
    "                 drop_hidden = None,\n",
    "                 input_var=None):\n",
    "\n",
    "    # Input layer and dropout (with shortcut `dropout` for `DropoutLayer`):\n",
    "    network = lasagne.layers.InputLayer(shape=(None, 9216),\n",
    "                                        input_var=input_var)\n",
    "    if drop_input:\n",
    "        network = lasagne.layers.dropout(network, p=drop_input)\n",
    "    # Hidden layers and dropout:\n",
    "    nonlin = lasagne.nonlinearities.rectify\n",
    "    for i in range(len(width)):\n",
    "        network = lasagne.layers.DenseLayer(\n",
    "            network, width[i], nonlinearity=nonlin)\n",
    "        if drop_hidden:\n",
    "            network = lasagne.layers.dropout(network, p=drop_hidden[0])\n",
    "            drop_hidden = drop_hidden[1:]\n",
    "        \n",
    "    # Output layer:\n",
    "    out_nonlin = lasagne.nonlinearities.identity\n",
    "    network = lasagne.layers.DenseLayer(network, num_output, nonlinearity=out_nonlin)\n",
    "        \n",
    "    return network"
   ]
  },
  {
   "cell_type": "code",
   "execution_count": 7,
   "metadata": {
    "collapsed": true
   },
   "outputs": [],
   "source": [
    "def reinitiate_set_params(network,\n",
    "                          weights = None):\n",
    "        # change weights of a trained network to a random set or a user defined value\n",
    "        # useful in case of big networks and cross validation\n",
    "        # instead of the long time of recompiling you can just \n",
    "        # re-init the network weights\n",
    "        if not weights:\n",
    "            old = lasagne.layers.get_all_param_values(network)\n",
    "            weights = []\n",
    "            for layer in old:\n",
    "                shape = layer.shape\n",
    "                if len(shape)<2:\n",
    "                    shape = (shape[0], 1)\n",
    "                W= lasagne.init.GlorotUniform()(shape)\n",
    "                if W.shape != layer.shape:\n",
    "                    W = np.squeeze(W, axis= 1)\n",
    "                weights.append(W)\n",
    "        lasagne.layers.set_all_param_values(network, weights) \n",
    "        return network"
   ]
  },
  {
   "cell_type": "code",
   "execution_count": 48,
   "metadata": {
    "collapsed": false
   },
   "outputs": [],
   "source": [
    "def build_update_functions(train_set_x,train_set_y,\n",
    "                           valid_set_x,valid_set_y,\n",
    "                           network,\n",
    "                           y,\n",
    "                           batch_size = 32,\n",
    "                           l2_reg = .05,\n",
    "                           learning_rate = .005,\n",
    "                           momentum = .9):\n",
    "    # build update functions\n",
    "    #####################################\n",
    "    # extract tensor representing the network predictions\n",
    "    prediction = lasagne.layers.get_output(network)\n",
    "    loss_RMSE = 0\n",
    "    # collect squared error\n",
    "    loss_RMSE = lasagne.objectives.squared_error(prediction, y)\n",
    "    # compute the root mean squared errror\n",
    "    loss_RMSE = loss_RMSE.mean().sqrt()\n",
    "    # add l2 regularization\n",
    "    l2_penalty = lasagne.regularization.regularize_network_params(network,\n",
    "                                                                  lasagne.regularization.l2)\n",
    "    loss = (1-l2_reg) * loss_RMSE + l2_reg * l2_penalty\n",
    "    # get network params\n",
    "    params = lasagne.layers.get_all_params(network)\n",
    "    \n",
    "#     # create update criterion    \n",
    "#     print('nestrov')\n",
    "#     updates = lasagne.updates.nesterov_momentum(\n",
    "#         loss, params, learning_rate=learning_rate, momentum=momentum)\n",
    "    \n",
    "#     print('AdaGrad')\n",
    "#     updates = lasagne.updates.adagrad(loss, params)\n",
    "    \n",
    "    print('RMSPROP')\n",
    "    updates = lasagne.updates.rmsprop(loss, params, learning_rate= .0001)\n",
    "    # create validation/test loss expression\n",
    "    # the loss represents the loss for all the lables\n",
    "    test_prediction = lasagne.layers.get_output(network,\n",
    "                                                deterministic=True)\n",
    "    # collect squared error\n",
    "    test_loss = lasagne.objectives.squared_error(test_prediction,\n",
    "                                                 y)\n",
    "    # compute the root mean squared errror\n",
    "    test_loss = test_loss.mean().sqrt()\n",
    "#     test_loss_withl2 = (1-l2_reg) * test_loss + l2_reg * l2_penalty\n",
    "    \n",
    "    # index for minibatch slicing\n",
    "    index = T.lscalar()\n",
    "    \n",
    "    # training function \n",
    "    train_set_x_size = train_set_x.get_value().shape[0]\n",
    "    val_set_x_size = valid_set_x.get_value().shape[0]\n",
    "    \n",
    "    train_fn = theano.function(inputs=[index],\n",
    "                               outputs=[loss,loss_RMSE],\n",
    "                               updates=updates,\n",
    "                               givens={X:train_set_x[index * batch_size: T.minimum((index + 1) * batch_size,train_set_x_size)],\n",
    "                                       y:train_set_y[index * batch_size: T.minimum((index + 1) * batch_size,train_set_x_size)]})\n",
    "    # validation function \n",
    "    val_fn = theano.function(inputs=[index],\n",
    "                             outputs=[test_loss,prediction],\n",
    "                             givens={X:valid_set_x[index * batch_size: T.minimum((index + 1) * batch_size,val_set_x_size)],\n",
    "                                     y:valid_set_y[index * batch_size: T.minimum((index + 1) * batch_size,val_set_x_size)]})\n",
    "    return train_fn,val_fn"
   ]
  },
  {
   "cell_type": "code",
   "execution_count": 49,
   "metadata": {
    "collapsed": false
   },
   "outputs": [],
   "source": [
    "if type(train_set_y) == np.ndarray:\n",
    "    num_output = train_set_y.shape[1]\n",
    "else:\n",
    "    num_output = train_set_y.get_value().shape[1]"
   ]
  },
  {
   "cell_type": "code",
   "execution_count": 50,
   "metadata": {
    "collapsed": false
   },
   "outputs": [],
   "source": [
    "X = T.matrix('X')\n",
    "y = T.matrix('y')\n",
    "network = build__model([1024,1024,512,128],\n",
    "                       num_output=num_output,\n",
    "                       drop_input=.1,\n",
    "                       drop_hidden=[.4,.4,.4,.4],\n",
    "                       input_var = X)"
   ]
  },
  {
   "cell_type": "code",
   "execution_count": 51,
   "metadata": {
    "collapsed": false
   },
   "outputs": [
    {
     "name": "stdout",
     "output_type": "stream",
     "text": [
      "RMSPROP\n"
     ]
    }
   ],
   "source": [
    "train_fn,val_fn = build_update_functions(train_set_x,train_set_y,\n",
    "                                         valid_set_x,valid_set_y,\n",
    "                                         network,\n",
    "                                         y)"
   ]
  },
  {
   "cell_type": "code",
   "execution_count": 52,
   "metadata": {
    "collapsed": false
   },
   "outputs": [],
   "source": [
    "# parasms \n",
    "n_iter = 10000\n",
    "improvement_threshold = 0.997\n",
    "patience = 10000\n",
    "max_fail = 10\n",
    "#######################\n",
    "batch_size = 642\n",
    "n_train_batches = train_set_x.get_value(borrow=True).shape[0] // batch_size+1\n",
    "n_valid_batches = valid_set_x.get_value(borrow=True).shape[0] // batch_size+1\n",
    "patience_increase=2\n",
    "validation_frequency = min(n_train_batches, patience // 10)\n",
    "best_val_loss_ = np.inf\n",
    "train_loss_history_temp = []\n",
    "########################\n",
    "n_fail_ = 0\n",
    "best_val_loss_ = np.inf\n",
    "best_epoch_ = 0 \n",
    "epoch = 0\n",
    "done_looping = False\n",
    "train_loss_history_ = []\n",
    "val_loss_history_ =[]"
   ]
  },
  {
   "cell_type": "code",
   "execution_count": 53,
   "metadata": {
    "collapsed": false
   },
   "outputs": [
    {
     "name": "stdout",
     "output_type": "stream",
     "text": [
      "1498\n",
      "642\n"
     ]
    }
   ],
   "source": [
    "print train_set_x.get_value().shape[0]\n",
    "print valid_set_x.get_value().shape[0]"
   ]
  },
  {
   "cell_type": "code",
   "execution_count": 54,
   "metadata": {
    "collapsed": false,
    "scrolled": true
   },
   "outputs": [
    {
     "name": "stdout",
     "output_type": "stream",
     "text": [
      "epoch 200, minibatch 3/3, validation loss of 0.109626, patience 10000, in 17.895972 secs\n",
      "epoch 400, minibatch 3/3, validation loss of 0.080683, patience 10000, in 17.079560 secs\n",
      "epoch 600, minibatch 3/3, validation loss of 0.069121, patience 10000, in 16.998562 secs\n",
      "epoch 800, minibatch 3/3, validation loss of 0.067070, patience 10000, in 16.962194 secs\n",
      "epoch 1000, minibatch 3/3, validation loss of 0.065766, patience 10000, in 17.007180 secs\n",
      "epoch 1200, minibatch 3/3, validation loss of 0.065550, patience 10000, in 16.943007 secs\n",
      "epoch 1400, minibatch 3/3, validation loss of 0.065303, patience 10000, in 16.977234 secs\n",
      "epoch 1600, minibatch 3/3, validation loss of 0.065227, patience 10000, in 17.004583 secs\n",
      "epoch 1800, minibatch 3/3, validation loss of 0.065113, patience 10000, in 16.968419 secs\n",
      "epoch 2000, minibatch 3/3, validation loss of 0.065059, patience 10000, in 16.922209 secs\n",
      "epoch 2200, minibatch 3/3, validation loss of 0.064954, patience 10000, in 16.917550 secs\n",
      "epoch 2400, minibatch 3/3, validation loss of 0.064930, patience 10000, in 16.902886 secs\n",
      "epoch 2600, minibatch 3/3, validation loss of 0.064924, patience 10000, in 16.922047 secs\n",
      "epoch 2800, minibatch 3/3, validation loss of 0.064909, patience 10000, in 16.961052 secs\n",
      "epoch 3000, minibatch 3/3, validation loss of 0.064897, patience 10000, in 16.918612 secs\n",
      "epoch 3200, minibatch 3/3, validation loss of 0.064885, patience 10000, in 16.914549 secs\n",
      "patience reached\n",
      "reseting the network params to that of the best seen\n"
     ]
    }
   ],
   "source": [
    "start_time = time.time()\n",
    "while (epoch < n_iter) and (not done_looping):\n",
    "    epoch +=1\n",
    "    \n",
    "    # go over minibatches\n",
    "    for minibatch_index in range(n_train_batches):\n",
    "        \n",
    "        # update network for one minibatch\n",
    "        minibatch_average_cost,minibatch_average_RMSE = train_fn(minibatch_index)\n",
    "        \n",
    "        # store training loss of minibatches till the next validation step\n",
    "        train_loss_history_temp.append(minibatch_average_RMSE)\n",
    "        \n",
    "        # number of minibatches checked\n",
    "        num_minibatch_checked = (epoch -1) * n_train_batches + minibatch_index\n",
    "        \n",
    "        # if validation interval reached\n",
    "        if (num_minibatch_checked+1 ) % validation_frequency ==0:\n",
    "            \n",
    "            # compute validation loss\n",
    "            validation_losses = [val_fn(i)[0] for i in range(n_valid_batches)]\n",
    "            \n",
    "            # store mean validation loss for validation set\n",
    "            current_val_loss = np.mean(validation_losses)\n",
    "            \n",
    "            # store training and validation history\n",
    "            train_loss_history_.append(np.mean(train_loss_history_temp))\n",
    "            val_loss_history_.append(current_val_loss)\n",
    "            train_loss_history_temp = []\n",
    "\n",
    "            # is it the best validation loss sofar?\n",
    "            if current_val_loss < best_val_loss_ :\n",
    "                \n",
    "                # increase patience if improvement is significant\n",
    "                if (current_val_loss < best_val_loss_*improvement_threshold):\n",
    "                    patience = max(patience, num_minibatch_checked* patience_increase )\n",
    "                \n",
    "                # save the-sofar-best validation RMSE and epoch and model-params\n",
    "                best_val_loss_ = current_val_loss\n",
    "                best_epoch_ = epoch\n",
    "                best_network_params = lasagne.layers.get_all_param_values(network)\n",
    "                \n",
    "        # check if patience exceeded and set the training loop to stop\n",
    "        if (patience <= num_minibatch_checked):\n",
    "            print 'patience reached'\n",
    "            # reset the network weights to the best params saved\n",
    "            print 'reseting the network params to that of the best seen'\n",
    "            reinitiate_set_params(network=network,\n",
    "                                  weights = best_network_params)\n",
    "            # done optimising, break the optimisation loop\n",
    "            done_looping = True\n",
    "            break\n",
    "   \n",
    "    # print out results of optimising priodically\n",
    "    if (epoch % 200) == 0:\n",
    "        print (('epoch %i, minibatch %i/%i, validation loss of %f, patience %i, in %f secs')%\n",
    "               (epoch, minibatch_index+1, n_train_batches, current_val_loss, patience, time.time()-start_time ))\n",
    "        start_time = time.time()\n",
    "                \n",
    "        "
   ]
  },
  {
   "cell_type": "code",
   "execution_count": 55,
   "metadata": {
    "collapsed": false
   },
   "outputs": [
    {
     "data": {
      "text/plain": [
       "<matplotlib.legend.Legend at 0x7f10f841a490>"
      ]
     },
     "execution_count": 55,
     "metadata": {},
     "output_type": "execute_result"
    },
    {
     "data": {
      "image/png": "[encoded data removed]",
      "text/plain": [
       "<matplotlib.figure.Figure at 0x7f10f2db7890>"
      ]
     },
     "metadata": {},
     "output_type": "display_data"
    }
   ],
   "source": [
    "plt.figure(figsize=(14,10))\n",
    "plt.plot(val_loss_history_[-600:]);\n",
    "plt.plot(train_loss_history_[-600:]);\n",
    "plt.legend(['val','train'])"
   ]
  },
  {
   "cell_type": "code",
   "execution_count": 171,
   "metadata": {
    "collapsed": false
   },
   "outputs": [],
   "source": [
    "# start_time = time.time()\n",
    "# while (epoch < n_iter) and (not done_looping):            \n",
    "#             epoch += 1\n",
    "#             if (epoch % 200) == 0:\n",
    "#                 print 'val loss l2',val_loss,'val loss',val_RMSE,'epoch',epoch,'n_fail',n_fail_,'in', time.time()-start_time,'SECs'\n",
    "#                 start_time = time.time()\n",
    "\n",
    "#             # one ful epoch on training data\n",
    "#             train_loss = train_fn(train_set_x, train_set_y)\n",
    "            \n",
    "#             # And a full pass over the validation data:\n",
    "#             val_loss,val_RMSE,_ = val_fn(valid_set_x, valid_set_y)\n",
    "                                   \n",
    "#             # save trainin history\n",
    "#             train_loss_history_.append(train_loss)\n",
    "#             val_loss_history_.append(val_loss)\n",
    "\n",
    "#             # check for early stopping\n",
    "\n",
    "#             if np.mean(val_loss) < np.mean(best_val_loss_) * improvement_threshold:\n",
    "#                 best_val_loss_ = val_loss\n",
    "#                 best_epoch_ = epoch \n",
    "#                 best_network_params = lasagne.layers.get_all_param_values(network)\n",
    "#                 # you can later init a network with this weights by set_all_params_values\n",
    "#                 # it contains both W and b of all layers\n",
    "#                 n_fail_ = 0\n",
    "#             elif (epoch % patience)==0:\n",
    "#                 n_fail_ += 1        \n",
    "            \n",
    "#             if n_fail_ == max_fail : \n",
    "#                 done_looping = True\n",
    "#                 reinitiate_set_params(network=network,\n",
    "#                                       weights = best_network_params)\n",
    "#                 break"
   ]
  },
  {
   "cell_type": "code",
   "execution_count": 179,
   "metadata": {
    "collapsed": false
   },
   "outputs": [
    {
     "data": {
      "text/plain": [
       "0.063524798"
      ]
     },
     "execution_count": 179,
     "metadata": {},
     "output_type": "execute_result"
    }
   ],
   "source": [
    "best_val_loss_"
   ]
  },
  {
   "cell_type": "markdown",
   "metadata": {},
   "source": [
    "### make a submission "
   ]
  },
  {
   "cell_type": "code",
   "execution_count": 52,
   "metadata": {
    "collapsed": false
   },
   "outputs": [
    {
     "ename": "TypeError",
     "evalue": "('Bad input argument to theano function with name \"<ipython-input-46-5b651cd22a05>:58\"  at index 0(0-based)', 'Expected an array-like object, but found a Variable: maybe you are trying to call a function on a (possibly shared) variable instead of a numeric array?')",
     "output_type": "error",
     "traceback": [
      "\u001b[1;31m---------------------------------------------------------------------------\u001b[0m",
      "\u001b[1;31mTypeError\u001b[0m                                 Traceback (most recent call last)",
      "\u001b[1;32m<ipython-input-52-0d36b00c7535>\u001b[0m in \u001b[0;36m<module>\u001b[1;34m()\u001b[0m\n\u001b[1;32m----> 1\u001b[1;33m \u001b[0mval_fn\u001b[0m\u001b[1;33m(\u001b[0m\u001b[0mtrain_set_x\u001b[0m\u001b[1;33m,\u001b[0m\u001b[0mtrain_set_y\u001b[0m\u001b[1;33m)\u001b[0m\u001b[1;33m\u001b[0m\u001b[0m\n\u001b[0m",
      "\u001b[1;32m/usr/local/lib/python2.7/dist-packages/theano/compile/function_module.pyc\u001b[0m in \u001b[0;36m__call__\u001b[1;34m(self, *args, **kwargs)\u001b[0m\n\u001b[0;32m    784\u001b[0m                         s.storage[0] = s.type.filter(\n\u001b[0;32m    785\u001b[0m                             \u001b[0marg\u001b[0m\u001b[1;33m,\u001b[0m \u001b[0mstrict\u001b[0m\u001b[1;33m=\u001b[0m\u001b[0ms\u001b[0m\u001b[1;33m.\u001b[0m\u001b[0mstrict\u001b[0m\u001b[1;33m,\u001b[0m\u001b[1;33m\u001b[0m\u001b[0m\n\u001b[1;32m--> 786\u001b[1;33m                             allow_downcast=s.allow_downcast)\n\u001b[0m\u001b[0;32m    787\u001b[0m \u001b[1;33m\u001b[0m\u001b[0m\n\u001b[0;32m    788\u001b[0m                     \u001b[1;32mexcept\u001b[0m \u001b[0mException\u001b[0m \u001b[1;32mas\u001b[0m \u001b[0me\u001b[0m\u001b[1;33m:\u001b[0m\u001b[1;33m\u001b[0m\u001b[0m\n",
      "\u001b[1;32m/usr/local/lib/python2.7/dist-packages/theano/tensor/type.pyc\u001b[0m in \u001b[0;36mfilter\u001b[1;34m(self, data, strict, allow_downcast)\u001b[0m\n\u001b[0;32m     84\u001b[0m         \u001b[1;32mif\u001b[0m \u001b[0misinstance\u001b[0m\u001b[1;33m(\u001b[0m\u001b[0mdata\u001b[0m\u001b[1;33m,\u001b[0m \u001b[0mVariable\u001b[0m\u001b[1;33m)\u001b[0m\u001b[1;33m:\u001b[0m\u001b[1;33m\u001b[0m\u001b[0m\n\u001b[0;32m     85\u001b[0m             raise TypeError(\n\u001b[1;32m---> 86\u001b[1;33m                 \u001b[1;34m'Expected an array-like object, but found a Variable: '\u001b[0m\u001b[1;33m\u001b[0m\u001b[0m\n\u001b[0m\u001b[0;32m     87\u001b[0m                 \u001b[1;34m'maybe you are trying to call a function on a (possibly '\u001b[0m\u001b[1;33m\u001b[0m\u001b[0m\n\u001b[0;32m     88\u001b[0m                 'shared) variable instead of a numeric array?')\n",
      "\u001b[1;31mTypeError\u001b[0m: ('Bad input argument to theano function with name \"<ipython-input-46-5b651cd22a05>:58\"  at index 0(0-based)', 'Expected an array-like object, but found a Variable: maybe you are trying to call a function on a (possibly shared) variable instead of a numeric array?')"
     ]
    }
   ],
   "source": [
    "val_fn(train_set_x,train_set_y)"
   ]
  },
  {
   "cell_type": "markdown",
   "metadata": {},
   "source": [
    "### CNN "
   ]
  }
 ],
 "metadata": {
  "kernelspec": {
   "display_name": "Python 2",
   "language": "python",
   "name": "python2"
  },
  "language_info": {
   "codemirror_mode": {
    "name": "ipython",
    "version": 2
   },
   "file_extension": ".py",
   "mimetype": "text/x-python",
   "name": "python",
   "nbconvert_exporter": "python",
   "pygments_lexer": "ipython2",
   "version": "2.7.6"
  }
 },
 "nbformat": 4,
 "nbformat_minor": 0
}
