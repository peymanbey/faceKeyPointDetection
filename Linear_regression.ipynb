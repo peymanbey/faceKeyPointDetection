{
 "cells": [
  {
   "cell_type": "markdown",
   "metadata": {},
   "source": [
    "##  read inputs, handle missing values, scale input/output, convert to float32"
   ]
  },
  {
   "cell_type": "code",
   "execution_count": 1,
   "metadata": {
    "collapsed": false
   },
   "outputs": [],
   "source": [
    "from faceKeySrc import load_data, shared_dataset, plot_train_valid\n",
    "from deprecated import linear_regresion,train_early_stopping\n",
    "import theano.tensor as T\n",
    "import theano\n",
    "import numpy"
   ]
  },
  {
   "cell_type": "code",
   "execution_count": 2,
   "metadata": {
    "collapsed": false
   },
   "outputs": [
    {
     "name": "stdout",
     "output_type": "stream",
     "text": [
      "just drop all the samples with missing values, consider a better approach\n"
     ]
    }
   ],
   "source": [
    "FTRAIN = '../data/training.csv'\n",
    "FTEST = '../data/test.csv'\n",
    "X, Y = load_data(FTRAIN)"
   ]
  },
  {
   "cell_type": "markdown",
   "metadata": {},
   "source": [
    "This implementation is based on Lisa-lab's tutorial on theano"
   ]
  },
  {
   "cell_type": "markdown",
   "metadata": {},
   "source": [
    "### write a multi-target linear regression"
   ]
  },
  {
   "cell_type": "code",
   "execution_count": 3,
   "metadata": {
    "collapsed": false
   },
   "outputs": [],
   "source": [
    "# generate train and validation sets\n",
    "from sklearn.cross_validation import train_test_split\n",
    "train_set_x, valid_set_x, train_set_y, valid_set_y = train_test_split(\n",
    "    X, Y, test_size=0.3, random_state=42\n",
    ")\n",
    "train_set_x, train_set_y = shared_dataset(train_set_x, train_set_y)\n",
    "valid_set_x, valid_set_y = shared_dataset(valid_set_x, valid_set_y)"
   ]
  },
  {
   "cell_type": "markdown",
   "metadata": {},
   "source": [
    "### sgd optimization"
   ]
  },
  {
   "cell_type": "code",
   "execution_count": 7,
   "metadata": {
    "collapsed": true
   },
   "outputs": [],
   "source": [
    "def sgd_linear_reg_multi_target_earlyStop(train_set_x, train_set_y,\n",
    "                                          valid_set_x, valid_set_y,\n",
    "                                          learning_rate=0.01,\n",
    "                                          n_epochs=1000,\n",
    "                                          batch_size=10,\n",
    "                                          patience = 500,  # look as this many examples regardless,\n",
    "                                          improvement_threshold = 0.995,  # a relative improvement of this much is\n",
    "                                                        # considered significant\n",
    "                                          patience_increase = 2,  # wait this much longer when a new best is\n",
    "                                         ):\n",
    "    \n",
    "    #compute the number of mini batches\n",
    "    n_train_batches= train_set_x.get_value(borrow=True).shape[0] // batch_size\n",
    "    n_valid_batches = valid_set_x.get_value(borrow=True).shape[0] // batch_size\n",
    "    print('...building the model')\n",
    "    \n",
    "    # allocate symbolic variable for data\n",
    "    index = T.lscalar()\n",
    "    \n",
    "    # generate symbolic variable for data - x, y represent a single batch\n",
    "    x= T.matrix('x')\n",
    "    y=T.matrix('y')\n",
    "    \n",
    "    # construct the regressor\n",
    "    linear_regressor = linear_regresion(input=x , n_in= 96 * 96, n_out=30)\n",
    "    \n",
    "    # compile a theano function to report the validation cost\n",
    "    validate_model = theano.function(\n",
    "        inputs=[index],\n",
    "        outputs=linear_regressor.loss_MSE(y),\n",
    "        givens={\n",
    "            x: valid_set_x[index * batch_size: (index + 1) * batch_size],\n",
    "            y: valid_set_y[index * batch_size: (index + 1) * batch_size]\n",
    "        }\n",
    "    )\n",
    "    \n",
    "    # the cost we minimise is MSE\n",
    "    cost = linear_regressor.loss_MSE(y)\n",
    "    # compute the gradient of cost\n",
    "    g_W = T.grad(cost=cost, wrt= linear_regressor.W)\n",
    "    g_b = T.grad(cost=cost, wrt= linear_regressor.b)\n",
    "    \n",
    "    # how to update parameters of the model\n",
    "    updates=[(linear_regressor.W, linear_regressor.W - learning_rate * g_W),\n",
    "             (linear_regressor.b, linear_regressor.b - learning_rate * g_b)]\n",
    "    \n",
    "    # compile a theano function that concurrently returns the cost\n",
    "    # and updates the model based on the update rules in updates\n",
    "    train_model = theano.function(\n",
    "        inputs=[index],\n",
    "        outputs=cost,\n",
    "        updates=updates,\n",
    "        givens={\n",
    "            x: train_set_x[index * batch_size: (index + 1) * batch_size],\n",
    "            y: train_set_y[index * batch_size: (index + 1) * batch_size]\n",
    "        }\n",
    "    )\n",
    "    \n",
    "    #train with early stopping\n",
    "    history_train_loss, history_validation_loss=train_early_stopping(train_model=train_model,\n",
    "                                                                     validate_model=validate_model,\n",
    "                                                                     n_epochs=n_epochs,\n",
    "                                                                     n_train_batches=n_train_batches,\n",
    "                                                                     n_valid_batches=n_valid_batches,\n",
    "                                                                     patience = patience,\n",
    "                                                                     improvement_threshold = improvement_threshold, \n",
    "                                                                     patience_increase = patience_increase\n",
    "                                                                    )\n",
    "    return history_train_loss, history_validation_loss\n",
    "\n"
   ]
  },
  {
   "cell_type": "code",
   "execution_count": 15,
   "metadata": {
    "collapsed": false
   },
   "outputs": [
    {
     "name": "stdout",
     "output_type": "stream",
     "text": [
      "...building the model\n"
     ]
    }
   ],
   "source": [
    "history_train_loss, history_validation_loss=sgd_linear_reg_multi_target_earlyStop(train_set_x, train_set_y,\n",
    "                                                                                  valid_set_x, valid_set_y,\n",
    "                                                                                  learning_rate=0.005,\n",
    "                                                                                  n_epochs=3000,\n",
    "                                                                                  batch_size=16,\n",
    "                                                                                  patience = 500, \n",
    "                                                                                  improvement_threshold = 0.999,\n",
    "                                                                                  patience_increase = 2, \n",
    "                                                                                 )"
   ]
  },
  {
   "cell_type": "markdown",
   "metadata": {},
   "source": [
    "### plot train valid curves"
   ]
  },
  {
   "cell_type": "code",
   "execution_count": 16,
   "metadata": {
    "collapsed": false
   },
   "outputs": [
    {
     "data": {
      "image/png": "[encoded data removed]",
      "text/plain": [
       "<matplotlib.figure.Figure at 0x7effa333ff10>"
      ]
     },
     "metadata": {},
     "output_type": "display_data"
    }
   ],
   "source": [
    "%matplotlib inline\n",
    "plot_train_valid(history_train_loss=history_train_loss,\n",
    "                 history_validation_loss=history_validation_loss)"
   ]
  },
  {
   "cell_type": "code",
   "execution_count": null,
   "metadata": {
    "collapsed": true
   },
   "outputs": [],
   "source": []
  }
 ],
 "metadata": {
  "kernelspec": {
   "display_name": "Python 2",
   "language": "python",
   "name": "python2"
  },
  "language_info": {
   "codemirror_mode": {
    "name": "ipython",
    "version": 2
   },
   "file_extension": ".py",
   "mimetype": "text/x-python",
   "name": "python",
   "nbconvert_exporter": "python",
   "pygments_lexer": "ipython2",
   "version": "2.7.6"
  }
 },
 "nbformat": 4,
 "nbformat_minor": 0
}
