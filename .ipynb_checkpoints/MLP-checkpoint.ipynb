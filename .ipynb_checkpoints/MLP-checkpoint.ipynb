{
 "cells": [
  {
   "cell_type": "markdown",
   "metadata": {},
   "source": [
    "# MLP for face keypoint detection"
   ]
  },
  {
   "cell_type": "code",
   "execution_count": 1,
   "metadata": {
    "collapsed": false
   },
   "outputs": [
    {
     "name": "stderr",
     "output_type": "stream",
     "text": [
      "Using gpu device 0: GeForce GTX 960 (CNMeM is disabled)\n"
     ]
    }
   ],
   "source": [
    "from faceKeySrc import load_data,linear_regresion, shared_dataset, plot_train_valid,train_early_stopping\n",
    "import theano.tensor as T\n",
    "import theano\n",
    "import numpy"
   ]
  },
  {
   "cell_type": "code",
   "execution_count": 2,
   "metadata": {
    "collapsed": false
   },
   "outputs": [
    {
     "name": "stdout",
     "output_type": "stream",
     "text": [
      "just drop all the samples with missing values, consider a better approach\n"
     ]
    }
   ],
   "source": [
    "FTRAIN = 'data/training.csv'\n",
    "FTEST = 'data/test.csv'\n",
    "X, Y = load_data(FTRAIN)"
   ]
  },
  {
   "cell_type": "code",
   "execution_count": 3,
   "metadata": {
    "collapsed": true
   },
   "outputs": [],
   "source": [
    "# generate train and validation sets\n",
    "from sklearn.cross_validation import train_test_split\n",
    "train_set_x, valid_set_x, train_set_y, valid_set_y = train_test_split(\n",
    "    X, Y, test_size=0.3, random_state=42\n",
    ")\n",
    "train_set_x, train_set_y = shared_dataset(train_set_x, train_set_y)\n",
    "valid_set_x, valid_set_y = shared_dataset(valid_set_x, valid_set_y)"
   ]
  },
  {
   "cell_type": "markdown",
   "metadata": {
    "collapsed": true
   },
   "source": [
    "## implement the MLP using lisa-lab's guide"
   ]
  },
  {
   "cell_type": "code",
   "execution_count": 4,
   "metadata": {
    "collapsed": true
   },
   "outputs": [],
   "source": [
    "from faceKeySrc import linear_regresion"
   ]
  },
  {
   "cell_type": "code",
   "execution_count": null,
   "metadata": {
    "collapsed": true
   },
   "outputs": [],
   "source": [
    "# implement the hidden layer class\n",
    "class hiddenLayer(object):\n",
    "    def __init__(self,\n",
    "                 rng,\n",
    "                 input,\n",
    "                 n_in,\n",
    "                 n_out,\n",
    "                 W=None,\n",
    "                 b=None,\n",
    "                 activation=T.tanh)\n",
    "    \"\"\"units are fully connected\n",
    "    sigmoidial activation functin \n",
    "    shape of W : (n_in,n_out)\n",
    "    shape of b : (n_out,)\n",
    "    \n",
    "    :type rng: numpy.random.RandomState\n",
    "    :param rng: random number generator for initializing W\n",
    "    \n",
    "    :type input: theano.tensor.dmatrix\n",
    "    :param input:symbolic tensor of the shape (n_examples, n_input)\n",
    "    \n",
    "    :type n_in: int\n",
    "    :param n_in: dimensionality of input\n",
    "    \n",
    "    :type n_out: int\n",
    "    :param n_out: number of hidden units\n",
    "    \n",
    "    :type activation: theano.Op or function\n",
    "    :param activation: Non-linearity of the hidden units\n",
    "    \"\"\"\n",
    "    \n",
    "    #keep track of input\n",
    "    self.input = input\n",
    "    \n",
    "    #initializing network weight\n",
    "    \n",
    "    # W uniformely sampled from -sqrt(6./(n_in+n_hidden)) and \n",
    "    # sqrt(6./(n_in+n_hidden)) for tanh function\n",
    "    if W is None:\n",
    "        W_values = numpy.array(\n",
    "            rng.uniform(\n",
    "                low = -numpy.sqrt(6. / (n_in + n_out)),\n",
    "                high = numpy.sqrt(6. / (n_in + n_out)),\n",
    "                size = (n_in , n_out)\n",
    "            ),\n",
    "            dtype = theano.config.floatX\n",
    "        )\n",
    "        \n",
    "        if activation == theano.tensor.nnet.sigmoid: # for sigmoid function\n",
    "            W_values *= 4\n",
    "            \n",
    "        W = theano.shared( value=W_values, name='W' , borrow = True)\n",
    "        \n",
    "    if b is None:\n",
    "        b_values = numpy.zeros((n_out, ), dtype = theano.config.floatX)\n",
    "        b = theano.shared(value = b_values, name = 'b' , borrow = True)\n",
    "        \n",
    "    self.W = W\n",
    "    self.b = b\n",
    "    \n",
    "    lin_output = T.dot(input, self.W) + self.b\n",
    "    self.output = (\n",
    "        lin_output if activation is None\n",
    "        else activation(lin_output)\n",
    "        \n",
    "        # parameters of the model \n",
    "        self.param = [self.W, self.b]\n",
    "    )\n",
    "    \n",
    "    "
   ]
  }
 ],
 "metadata": {
  "kernelspec": {
   "display_name": "Python 2",
   "language": "python",
   "name": "python2"
  },
  "language_info": {
   "codemirror_mode": {
    "name": "ipython",
    "version": 2
   },
   "file_extension": ".py",
   "mimetype": "text/x-python",
   "name": "python",
   "nbconvert_exporter": "python",
   "pygments_lexer": "ipython2",
   "version": "2.7.6"
  }
 },
 "nbformat": 4,
 "nbformat_minor": 0
}
