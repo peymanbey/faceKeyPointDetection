{
 "cells": [
  {
   "cell_type": "code",
   "execution_count": 1,
   "metadata": {
    "collapsed": true
   },
   "outputs": [],
   "source": [
    "# MLP for face keypoint detection"
   ]
  },
  {
   "cell_type": "code",
   "execution_count": 1,
   "metadata": {
    "collapsed": false
   },
   "outputs": [
    {
     "name": "stderr",
     "output_type": "stream",
     "text": [
      "Using gpu device 0: GeForce GTX 960 (CNMeM is disabled, cuDNN 5005)\n"
     ]
    }
   ],
   "source": [
    "from faceKeySrc import load_data, shared_dataset, plot_train_valid\n",
    "from deprecated import linear_regresion,train_early_stopping\n",
    "import theano.tensor as T\n",
    "import theano\n",
    "import numpy"
   ]
  },
  {
   "cell_type": "code",
   "execution_count": 2,
   "metadata": {
    "collapsed": false
   },
   "outputs": [
    {
     "name": "stdout",
     "output_type": "stream",
     "text": [
      "just drop all the samples with missing values, consider a better approach\n"
     ]
    }
   ],
   "source": [
    "FTRAIN = '../data/training.csv'\n",
    "FTEST = '../data/test.csv'\n",
    "X, Y = load_data(FTRAIN)"
   ]
  },
  {
   "cell_type": "code",
   "execution_count": 3,
   "metadata": {
    "collapsed": true
   },
   "outputs": [],
   "source": [
    "# generate train and validation sets\n",
    "from sklearn.cross_validation import train_test_split\n",
    "train_set_x, valid_set_x, train_set_y, valid_set_y = train_test_split(\n",
    "    X, Y, test_size=0.3, random_state=42\n",
    ")\n",
    "train_set_x, train_set_y = shared_dataset(train_set_x, train_set_y)\n",
    "valid_set_x, valid_set_y = shared_dataset(valid_set_x, valid_set_y)"
   ]
  },
  {
   "cell_type": "markdown",
   "metadata": {
    "collapsed": true
   },
   "source": [
    "## implement the MLP using lisa-lab's guide"
   ]
  },
  {
   "cell_type": "code",
   "execution_count": 5,
   "metadata": {
    "collapsed": false
   },
   "outputs": [],
   "source": [
    "# implement the hidden layer class\n",
    "class HiddenLayer(object):\n",
    "    def __init__(self,\n",
    "                 rng,\n",
    "                 input,\n",
    "                 n_in,\n",
    "                 n_out,\n",
    "                 W=None,\n",
    "                 b=None,\n",
    "                 activation=T.tanh):\n",
    "        \"\"\"units are fully connected\n",
    "        sigmoidial activation functin \n",
    "        shape of W : (n_in,n_out)\n",
    "        shape of b : (n_out,)\n",
    "        \n",
    "        :type rng: numpy.random.RandomState\n",
    "        :param rng: random number generator for initializing W\n",
    "        \n",
    "        :type input: theano.tensor.dmatrix\n",
    "        :param input:symbolic tensor of the shape (n_examples, n_input)\n",
    "        \n",
    "        :type n_in: int\n",
    "        :param n_in: dimensionality of input\n",
    "        \n",
    "        :type n_out: int\n",
    "        :param n_out: number of hidden units\n",
    "        \n",
    "        :type activation: theano.Op or function\n",
    "        param activation: Non-linearity of the hidden units\n",
    "        \n",
    "        \"\"\"\n",
    "        \n",
    "        #keep track of input\n",
    "        self.input = input\n",
    "        \n",
    "        #initializing network weight\n",
    "        \n",
    "        #W uniformely sampled from -sqrt(6./(n_in+n_hidden)) and \n",
    "        # sqrt(6./(n_in+n_hidden)) for tanh function\n",
    "        if W is None:\n",
    "            W_values = numpy.array(\n",
    "                rng.uniform(\n",
    "                    low = -numpy.sqrt(6. / (n_in + n_out)),\n",
    "                    high = numpy.sqrt(6. / (n_in + n_out)),\n",
    "                    size = (n_in , n_out)\n",
    "                ),\n",
    "                dtype = theano.config.floatX\n",
    "            )\n",
    "            \n",
    "            if activation == theano.tensor.nnet.sigmoid: # for sigmoid function\n",
    "                W_values *= 4\n",
    "                \n",
    "            W = theano.shared( value=W_values, name='W' , borrow = True)\n",
    "            \n",
    "        if b is None:\n",
    "            b_values = numpy.zeros((n_out, ), dtype = theano.config.floatX)\n",
    "            b = theano.shared(value = b_values, name = 'b' , borrow = True)\n",
    "\n",
    "        self.W = W\n",
    "        self.b = b\n",
    "\n",
    "        lin_output = T.dot(input, self.W) + self.b\n",
    "        self.output = (\n",
    "            lin_output if activation is None\n",
    "            else activation(lin_output)\n",
    "        )        \n",
    "        # parameters of the model \n",
    "        self.param = [self.W, self.b]\n",
    "        "
   ]
  },
  {
   "cell_type": "code",
   "execution_count": 6,
   "metadata": {
    "collapsed": true
   },
   "outputs": [],
   "source": [
    "class MLP(object):\n",
    "    \"\"\"Multi-layer perceptron class\n",
    "    \n",
    "    Feed-forward neural network with one or more hidden layers\n",
    "    and non-linear activation defined by hiddenLayer and \n",
    "    the output layer defined by linear_regresion\n",
    "    \"\"\"\n",
    "    \n",
    "    def __init__(self,\n",
    "                 rng,\n",
    "                 input,\n",
    "                 n_in,\n",
    "                 n_hidden,\n",
    "                 n_out):\n",
    "        \"\"\"initializing a MLP\n",
    "        \n",
    "        :type rng: numpy.random.RandomState\n",
    "        :param rng: random number generator for initializing MLP weights\n",
    "        \n",
    "        :type input: theano.tensor.TensorType\n",
    "        :param input: symbolic representation of the input samples\n",
    "        \n",
    "        :type n_in: int \n",
    "        :pram n_in:  number of input units, dimension of input space\n",
    "        \n",
    "        :type n_hidden: int\n",
    "        :param n_hidden:number of hidden units\n",
    "        \n",
    "        :type n_out: int\n",
    "        :param n_out:number of output units\n",
    "        \n",
    "        \"\"\"\n",
    "        \n",
    "        # for now we make the assumption that we have a single layer MLP\n",
    "        # activation functions tanh or sigmoid \n",
    "        # output layer is multi-target regression defined in linear_regresion\n",
    "        \n",
    "        self.hiddenLayer = HiddenLayer(rng = rng,\n",
    "                                       input = input,\n",
    "                                       n_in = n_in,\n",
    "                                       n_out = n_hidden,\n",
    "                                       activation=T.tanh)\n",
    "        \n",
    "        # linear regression layer takes the output of the hidden layer\n",
    "        self.regression = linear_regresion( input = self.hiddenLayer.output,\n",
    "                                           n_in = n_hidden,\n",
    "                                           n_out = n_out)\n",
    "        \n",
    "        # define the L1 norm for regularization \n",
    "        self.L1= (\n",
    "        abs(self.hiddenLayer.W).sum()\n",
    "            + abs(self.regression.W).sum()\n",
    "            )\n",
    "        # define the L2 regularization term \n",
    "        self.L2= (\n",
    "        abs(self.hiddenLayer.W**2).sum()\n",
    "            + abs(self.regression.W**2).sum()\n",
    "            )\n",
    "        #the loss of the MLP is given by the MSE  loss of the regression layer\n",
    "        self.MSE= (\n",
    "            self.regression.loss_MSE    \n",
    "            )\n",
    "        # computing the number of error? \n",
    "        # this is for accuracy calculation not necessary for regression\n",
    "        \n",
    "        # parameters of the model\n",
    "        self.param  = self.hiddenLayer.param + self.regression.param\n",
    "        \n",
    "        # kepp track of the input\n",
    "        self.input = input \n",
    "        "
   ]
  },
  {
   "cell_type": "code",
   "execution_count": 7,
   "metadata": {
    "collapsed": true
   },
   "outputs": [],
   "source": [
    "def sgd_MLP_singleHidden_earlystop (train_set_x, train_set_y,\n",
    "                                    valid_set_x, valid_set_y,\n",
    "                                    learning_rate=0.01,\n",
    "                                    L1_reg=0.00,\n",
    "                                    L2_reg=0.0001,\n",
    "                                    n_epochs=1000,\n",
    "                                    batch_size=10,\n",
    "                                    n_hidden=100,\n",
    "                                    patience = 500,\n",
    "                                    improvement_threshold = 0.995,\n",
    "                                    patience_increase = 2):\n",
    "    \"\"\"stochastic gradient descend optimization of single layer MLP with early stopping    \n",
    "    \"\"\"\n",
    "    #compute the number of mini batches\n",
    "    n_train_batches= train_set_x.get_value(borrow=True).shape[0] // batch_size\n",
    "    n_valid_batches = valid_set_x.get_value(borrow=True).shape[0] // batch_size\n",
    "    \n",
    "    print('...building the model')\n",
    "    \n",
    "    # allocate symbolic variable for data\n",
    "    index = T.lscalar()\n",
    "    \n",
    "    # generate symbolic variable for data - x, y represent a single batch\n",
    "    x= T.matrix('x')\n",
    "    y=T.matrix('y')\n",
    "    \n",
    "    # random number generator \n",
    "    rng = numpy.random.RandomState(1364)\n",
    "    \n",
    "    # construct the MLP class\n",
    "    regressor=MLP(rng,\n",
    "                   input=x,\n",
    "                   n_in=96 * 96,\n",
    "                   n_hidden=n_hidden,\n",
    "                   n_out=30\n",
    "                  )\n",
    "    \n",
    "    # the cost function \n",
    "    cost = (regressor.MSE(y)\n",
    "            + L1_reg * regressor.L1\n",
    "            + L2_reg * regressor.L2\n",
    "           )\n",
    "    \n",
    "    # compile a theano function to report the validation cost\n",
    "    validate_model = theano.function(\n",
    "        inputs=[index],\n",
    "        outputs = regressor.MSE(y)+ L1_reg * regressor.L1+ L2_reg * regressor.L2,\n",
    "        givens={\n",
    "            x: valid_set_x[index * batch_size: (index + 1) * batch_size],\n",
    "            y: valid_set_y[index * batch_size: (index + 1) * batch_size]\n",
    "        }\n",
    "    )\n",
    "    \n",
    "    # compute the gradient wrt to parameters\n",
    "    gparams = [T.grad(cost,param) for param in regressor.param]\n",
    "    \n",
    "    # specify the update procedure for the regressor \n",
    "    updates = [\n",
    "        (param, param - learning_rate * gparam)\n",
    "        for param, gparam in zip(regressor.param, gparams)\n",
    "    ]\n",
    "    \n",
    "    # compile the train model which returns the cost and updates \n",
    "    # the model accordingly\n",
    "    \n",
    "    train_model = theano.function(\n",
    "        inputs=[index],\n",
    "        outputs=cost,\n",
    "        updates=updates,\n",
    "        givens={\n",
    "            x: train_set_x[index * batch_size: (index + 1) * batch_size],\n",
    "            y: train_set_y[index * batch_size: (index + 1) * batch_size]\n",
    "        }\n",
    "    )\n",
    "    \n",
    "    history_train_loss, history_validation_loss=train_early_stopping(train_model=train_model,\n",
    "                                                                     validate_model=validate_model,\n",
    "                                                                     n_epochs=n_epochs,\n",
    "                                                                     n_train_batches=n_train_batches,\n",
    "                                                                     n_valid_batches=n_valid_batches,\n",
    "                                                                     patience = patience,\n",
    "                                                                     improvement_threshold = improvement_threshold, \n",
    "                                                                     patience_increase = patience_increase\n",
    "                                                                    )\n",
    "    return history_train_loss, history_validation_loss"
   ]
  },
  {
   "cell_type": "code",
   "execution_count": 8,
   "metadata": {
    "collapsed": false
   },
   "outputs": [
    {
     "name": "stdout",
     "output_type": "stream",
     "text": [
      "...building the model\n"
     ]
    }
   ],
   "source": [
    "history_train_loss, history_validation_loss= sgd_MLP_singleHidden_earlystop(train_set_x, train_set_y,\n",
    "                                                                            valid_set_x, valid_set_y,\n",
    "                                                                            learning_rate=0.005,\n",
    "                                                                            n_epochs=3000,\n",
    "                                                                            batch_size=16,\n",
    "                                                                            patience = 500, \n",
    "                                                                            improvement_threshold = 0.999,\n",
    "                                                                            patience_increase = 2, \n",
    "                                                                           )"
   ]
  },
  {
   "cell_type": "code",
   "execution_count": 9,
   "metadata": {
    "collapsed": false
   },
   "outputs": [
    {
     "data": {
      "image/png": "[encoded data removed]",
      "text/plain": [
       "<matplotlib.figure.Figure at 0x7fbda82e2bd0>"
      ]
     },
     "metadata": {},
     "output_type": "display_data"
    }
   ],
   "source": [
    "%matplotlib inline\n",
    "plot_train_valid(history_train_loss=history_train_loss,\n",
    "                 history_validation_loss=history_validation_loss)"
   ]
  },
  {
   "cell_type": "code",
   "execution_count": null,
   "metadata": {
    "collapsed": true
   },
   "outputs": [],
   "source": []
  }
 ],
 "metadata": {
  "kernelspec": {
   "display_name": "Python 2",
   "language": "python",
   "name": "python2"
  },
  "language_info": {
   "codemirror_mode": {
    "name": "ipython",
    "version": 2
   },
   "file_extension": ".py",
   "mimetype": "text/x-python",
   "name": "python",
   "nbconvert_exporter": "python",
   "pygments_lexer": "ipython2",
   "version": "2.7.6"
  }
 },
 "nbformat": 4,
 "nbformat_minor": 0
}
