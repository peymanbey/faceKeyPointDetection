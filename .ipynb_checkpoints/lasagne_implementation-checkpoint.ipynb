{
 "cells": [
  {
   "cell_type": "code",
   "execution_count": 1,
   "metadata": {
    "collapsed": false
   },
   "outputs": [
    {
     "name": "stderr",
     "output_type": "stream",
     "text": [
      "Using gpu device 0: GeForce GTX 960 (CNMeM is disabled, cuDNN 5005)\n",
      "/usr/local/lib/python2.7/dist-packages/theano/tensor/signal/downsample.py:6: UserWarning: downsample module has been moved to the theano.tensor.signal.pool module.\n",
      "  \"downsample module has been moved to the theano.tensor.signal.pool module.\")\n"
     ]
    }
   ],
   "source": [
    "import time\n",
    "from faceKeySrc import load_data\n",
    "import numpy as np\n",
    "from sklearn.cross_validation import train_test_split\n",
    "import lasagne\n",
    "import theano.tensor as T\n",
    "import theano\n",
    "import matplotlib.pyplot as plt\n",
    "from matplotlib import style\n",
    "%matplotlib inline"
   ]
  },
  {
   "cell_type": "code",
   "execution_count": 2,
   "metadata": {
    "collapsed": true
   },
   "outputs": [],
   "source": [
    "style.use('ggplot')"
   ]
  },
  {
   "cell_type": "code",
   "execution_count": 3,
   "metadata": {
    "collapsed": false
   },
   "outputs": [
    {
     "name": "stdout",
     "output_type": "stream",
     "text": [
      "just drop all the samples with missing values, consider a better approach\n"
     ]
    }
   ],
   "source": [
    "FTRAIN = '../data/training.csv'\n",
    "FTEST = '../data/test.csv'\n",
    "# load training data\n",
    "data_X, data_Y = load_data(FTRAIN)"
   ]
  },
  {
   "cell_type": "code",
   "execution_count": 4,
   "metadata": {
    "collapsed": false
   },
   "outputs": [],
   "source": [
    "# generate test validation split\n",
    "train_set_x, valid_set_x, train_set_y, valid_set_y = train_test_split(\n",
    "    data_X, data_Y, test_size=0.3, random_state=42\n",
    ")"
   ]
  },
  {
   "cell_type": "code",
   "execution_count": 5,
   "metadata": {
    "collapsed": true
   },
   "outputs": [],
   "source": [
    "train_set_x = train_set_x.astype(theano.config.floatX)\n",
    "train_set_y = train_set_y.astype(theano.config.floatX)\n",
    "valid_set_x = valid_set_x.astype(theano.config.floatX)\n",
    "valid_set_y = valid_set_y.astype(theano.config.floatX)\n",
    "#########################################\n",
    "# try it later to see if it improves the performance\n",
    "# # store traiing data into shared variable\n",
    "# train_set_x, train_set_y = shared_dataset(train_set_x, train_set_y)\n",
    "# valid_set_x, valid_set_y = shared_dataset(valid_set_x, valid_set_y)"
   ]
  },
  {
   "cell_type": "markdown",
   "metadata": {},
   "source": [
    "### linear regression with multiple outputs"
   ]
  },
  {
   "cell_type": "code",
   "execution_count": 6,
   "metadata": {
    "collapsed": false
   },
   "outputs": [],
   "source": [
    "def build__model(width,\n",
    "                 num_output,\n",
    "                 drop_input= None,\n",
    "                 drop_hidden = None,\n",
    "                 input_var=None):\n",
    "\n",
    "    # Input layer and dropout (with shortcut `dropout` for `DropoutLayer`):\n",
    "    network = lasagne.layers.InputLayer(shape=(None, 9216),\n",
    "                                        input_var=input_var)\n",
    "    if drop_input:\n",
    "        network = lasagne.layers.dropout(network, p=drop_input)\n",
    "    # Hidden layers and dropout:\n",
    "    nonlin = lasagne.nonlinearities.rectify\n",
    "    for i in range(len(width)):\n",
    "        network = lasagne.layers.DenseLayer(\n",
    "            network, width[i], nonlinearity=nonlin)\n",
    "        if drop_hidden:\n",
    "            network = lasagne.layers.dropout(network, p=drop_hidden[0])\n",
    "            drop_hidden = drop_hidden[1:]\n",
    "        \n",
    "    # Output layer:\n",
    "    out_nonlin = lasagne.nonlinearities.identity\n",
    "    network = lasagne.layers.DenseLayer(network, num_output, nonlinearity=out_nonlin)\n",
    "        \n",
    "    return network"
   ]
  },
  {
   "cell_type": "code",
   "execution_count": 7,
   "metadata": {
    "collapsed": true
   },
   "outputs": [],
   "source": [
    "def reinitiate_set_params(network,\n",
    "                          weights = None):\n",
    "        # change weights of a trained network to a random set or a user defined value\n",
    "        # useful in case of big networks and cross validation\n",
    "        # instead of the long time of recompiling you can just \n",
    "        # re-init the network weights\n",
    "        if not weights:\n",
    "            old = lasagne.layers.get_all_param_values(network)\n",
    "            weights = []\n",
    "            for layer in old:\n",
    "                shape = layer.shape\n",
    "                if len(shape)<2:\n",
    "                    shape = (shape[0], 1)\n",
    "                W= lasagne.init.GlorotUniform()(shape)\n",
    "                if W.shape != layer.shape:\n",
    "                    W = np.squeeze(W, axis= 1)\n",
    "                weights.append(W)\n",
    "        lasagne.layers.set_all_param_values(network, weights) \n",
    "        return network"
   ]
  },
  {
   "cell_type": "code",
   "execution_count": 14,
   "metadata": {
    "collapsed": false
   },
   "outputs": [],
   "source": [
    "def build_update_functions(network,\n",
    "                           y,\n",
    "                           l2_reg = .1,\n",
    "                           learning_rate = .005,\n",
    "                           momentum = .9):\n",
    "    # build update functions\n",
    "    #####################################\n",
    "    # extract tensor representing the network predictions\n",
    "    prediction = lasagne.layers.get_output(network)\n",
    "    loss = 0\n",
    "    # collect squared error\n",
    "    loss = lasagne.objectives.squared_error(prediction, y)\n",
    "    # compute the root mean squared errror\n",
    "    loss = loss.mean().sqrt()\n",
    "    # add l2 regularization\n",
    "    l2_penalty = lasagne.regularization.regularize_network_params(network,\n",
    "                                                                  lasagne.regularization.l2)\n",
    "    loss = (1-l2_reg) * loss + l2_reg * l2_penalty\n",
    "    # get network params\n",
    "    params = lasagne.layers.get_all_params(network)\n",
    "    \n",
    "#     # create update criterion    \n",
    "#     print('nestrov')\n",
    "#     updates = lasagne.updates.nesterov_momentum(\n",
    "#         loss, params, learning_rate=learning_rate, momentum=momentum)\n",
    "    \n",
    "    print('AdaGrad')\n",
    "    updates = lasagne.updates.adagrad(loss, params)\n",
    "    \n",
    "#     print('RMSPROP')\n",
    "#     updates = lasagne.updates.rmsprop(loss, params)\n",
    "    # create validation/test loss expression\n",
    "    # the loss represents the loss for all the lables\n",
    "    test_prediction = lasagne.layers.get_output(network,\n",
    "                                                deterministic=True)\n",
    "    # collect squared error\n",
    "    test_loss = lasagne.objectives.squared_error(test_prediction,\n",
    "                                                 y)\n",
    "    # compute the root mean squared errror\n",
    "    test_loss = test_loss.mean().sqrt()\n",
    "    test_loss_withl2 = (1-l2_reg) * test_loss + l2_reg * l2_penalty\n",
    "    # training function \n",
    "    \n",
    "    train_fn = theano.function(inputs=[X,y],\n",
    "                               outputs=loss,\n",
    "                               updates=updates)\n",
    "    # validation function \n",
    "    val_fn = theano.function(inputs=[X,y],\n",
    "                             outputs=[test_loss_withl2,test_loss,prediction])\n",
    "    return train_fn,val_fn"
   ]
  },
  {
   "cell_type": "code",
   "execution_count": 15,
   "metadata": {
    "collapsed": false
   },
   "outputs": [],
   "source": [
    "X = T.matrix('X')\n",
    "y = T.matrix('y')\n",
    "network = build__model([1024],\n",
    "                       num_output=train_set_y.shape[1],\n",
    "                       drop_input=.2,\n",
    "                       drop_hidden=[.4],\n",
    "                       input_var = X)"
   ]
  },
  {
   "cell_type": "code",
   "execution_count": 16,
   "metadata": {
    "collapsed": false
   },
   "outputs": [
    {
     "name": "stdout",
     "output_type": "stream",
     "text": [
      "AdaGrad\n"
     ]
    }
   ],
   "source": [
    "train_fn,val_fn = build_update_functions(network=network,\n",
    "                                         y=y)"
   ]
  },
  {
   "cell_type": "code",
   "execution_count": 17,
   "metadata": {
    "collapsed": true
   },
   "outputs": [],
   "source": [
    "# parasms \n",
    "n_iter = 10000\n",
    "improvement_threshold = 0.999\n",
    "patience = 20\n",
    "max_fail = 10\n",
    "########################\n",
    "n_fail_ = 0\n",
    "best_val_loss_ = np.inf\n",
    "best_epoch_ = 0 \n",
    "epoch = 0\n",
    "done_looping = False\n",
    "train_loss_history_ = []\n",
    "val_loss_history_ =[]"
   ]
  },
  {
   "cell_type": "code",
   "execution_count": 18,
   "metadata": {
    "collapsed": false,
    "scrolled": true
   },
   "outputs": [
    {
     "name": "stdout",
     "output_type": "stream",
     "text": [
      "val loss l2 99.5470123291 val loss 0.078136228025 epoch 200 n_fail 0 in 19.4824538231 SECs\n",
      "val loss l2 32.4692955017 val loss 0.070584371686 epoch 400 n_fail 0 in 19.6563100815 SECs\n",
      "val loss l2 13.3744573593 val loss 0.068152345717 epoch 600 n_fail 0 in 19.7122011185 SECs\n",
      "val loss l2 6.09785461426 val loss 0.0680482909083 epoch 800 n_fail 0 in 19.754912138 SECs\n",
      "val loss l2 2.94962096214 val loss 0.0678168833256 epoch 1000 n_fail 0 in 19.7296819687 SECs\n",
      "val loss l2 1.49065995216 val loss 0.06775572896 epoch 1200 n_fail 0 in 19.6779158115 SECs\n",
      "val loss l2 0.784226953983 val loss 0.0675714612007 epoch 1400 n_fail 0 in 19.5560798645 SECs\n",
      "val loss l2 0.433112919331 val loss 0.0676616951823 epoch 1600 n_fail 0 in 19.3949038982 SECs\n",
      "val loss l2 0.254728972912 val loss 0.0674587637186 epoch 1800 n_fail 0 in 19.3917200565 SECs\n",
      "val loss l2 0.16304539144 val loss 0.0675649046898 epoch 2000 n_fail 0 in 19.4066698551 SECs\n",
      "val loss l2 0.11490227282 val loss 0.0673891827464 epoch 2200 n_fail 0 in 19.4255001545 SECs\n",
      "val loss l2 0.0898902639747 val loss 0.0675031766295 epoch 2400 n_fail 0 in 19.1760029793 SECs\n",
      "val loss l2 0.0764266997576 val loss 0.067384339869 epoch 2600 n_fail 0 in 19.0744059086 SECs\n",
      "val loss l2 0.0693509429693 val loss 0.0674921125174 epoch 2800 n_fail 0 in 18.8900840282 SECs\n",
      "val loss l2 0.0654902607203 val loss 0.0674865171313 epoch 3000 n_fail 0 in 18.731290102 SECs\n",
      "val loss l2 0.0633444488049 val loss 0.0674548521638 epoch 3200 n_fail 0 in 18.6311690807 SECs\n",
      "val loss l2 0.0621842294931 val loss 0.0674421936274 epoch 3400 n_fail 0 in 18.5609629154 SECs\n",
      "val loss l2 0.061611097306 val loss 0.067490234971 epoch 3600 n_fail 0 in 18.5320739746 SECs\n",
      "val loss l2 0.0611531250179 val loss 0.0673608258367 epoch 3800 n_fail 0 in 18.4680337906 SECs\n",
      "val loss l2 0.0609798915684 val loss 0.0674142614007 epoch 4000 n_fail 0 in 18.4643719196 SECs\n",
      "val loss l2 0.0608942471445 val loss 0.0674513950944 epoch 4200 n_fail 0 in 18.4578750134 SECs\n",
      "val loss l2 0.060829591006 val loss 0.0674498826265 epoch 4400 n_fail 1 in 18.489331007 SECs\n",
      "val loss l2 0.0607974492013 val loss 0.0674501657486 epoch 4600 n_fail 1 in 18.4549739361 SECs\n",
      "val loss l2 0.060781236738 val loss 0.0674509704113 epoch 4800 n_fail 3 in 18.4467639923 SECs\n",
      "val loss l2 0.0607497170568 val loss 0.0674252733588 epoch 5000 n_fail 5 in 18.452436924 SECs\n",
      "val loss l2 0.0607872083783 val loss 0.0674743875861 epoch 5200 n_fail 7 in 18.4463319778 SECs\n",
      "val loss l2 0.0608056411147 val loss 0.0674964860082 epoch 5400 n_fail 1 in 18.5686089993 SECs\n",
      "val loss l2 0.0607862733305 val loss 0.0674810037017 epoch 5600 n_fail 3 in 18.7204930782 SECs\n",
      "val loss l2 0.0608084537089 val loss 0.0675034746528 epoch 5800 n_fail 5 in 18.4538331032 SECs\n",
      "val loss l2 0.0608215145767 val loss 0.0675224661827 epoch 6000 n_fail 7 in 19.3052449226 SECs\n",
      "val loss l2 0.0607316941023 val loss 0.0674234852195 epoch 6200 n_fail 9 in 19.1496269703 SECs\n"
     ]
    }
   ],
   "source": [
    "start_time = time.time()\n",
    "while (epoch < n_iter) and (not done_looping):            \n",
    "            epoch += 1\n",
    "            if (epoch % 200) == 0:\n",
    "                print 'val loss l2',val_loss,'val loss',val_RMSE,'epoch',epoch,'n_fail',n_fail_,'in', time.time()-start_time,'SECs'\n",
    "                start_time = time.time()\n",
    "\n",
    "            # one ful epoch on training data\n",
    "            train_loss = train_fn(train_set_x, train_set_y)\n",
    "            \n",
    "            # And a full pass over the validation data:\n",
    "            val_loss,val_RMSE,_ = val_fn(valid_set_x, valid_set_y)\n",
    "                                   \n",
    "            # save trainin history\n",
    "            train_loss_history_.append(train_loss)\n",
    "            val_loss_history_.append(val_loss)\n",
    "\n",
    "            # check for early stopping\n",
    "\n",
    "            if np.mean(val_loss) < np.mean(best_val_loss_) * improvement_threshold:\n",
    "                best_val_loss_ = val_loss\n",
    "                best_epoch_ = epoch \n",
    "                best_network_params = lasagne.layers.get_all_param_values(network)\n",
    "                # you can later init a network with this weights by set_all_params_values\n",
    "                # it contains both W and b of all layers\n",
    "                n_fail_ = 0\n",
    "            elif (epoch % patience)==0:\n",
    "                n_fail_ += 1        \n",
    "            \n",
    "            if n_fail_ == max_fail : \n",
    "                done_looping = True\n",
    "                reinitiate_set_params(network=network,\n",
    "                                      weights = best_network_params)\n",
    "                break"
   ]
  },
  {
   "cell_type": "code",
   "execution_count": 25,
   "metadata": {
    "collapsed": false
   },
   "outputs": [
    {
     "data": {
      "text/plain": [
       "<matplotlib.legend.Legend at 0x7fc2512c5690>"
      ]
     },
     "execution_count": 25,
     "metadata": {},
     "output_type": "execute_result"
    },
    {
     "data": {
      "image/png": "[encoded data removed]",
      "text/plain": [
       "<matplotlib.figure.Figure at 0x7fc255c9b610>"
      ]
     },
     "metadata": {},
     "output_type": "display_data"
    }
   ],
   "source": [
    "plt.plot(val_loss_history_[-4000:]);\n",
    "plt.plot(train_loss_history_[-4000:]);\n",
    "plt.legend(['val','train'])"
   ]
  },
  {
   "cell_type": "markdown",
   "metadata": {},
   "source": [
    "### make a submission "
   ]
  },
  {
   "cell_type": "code",
   "execution_count": null,
   "metadata": {
    "collapsed": true
   },
   "outputs": [],
   "source": []
  },
  {
   "cell_type": "markdown",
   "metadata": {},
   "source": [
    "### CNN "
   ]
  }
 ],
 "metadata": {
  "kernelspec": {
   "display_name": "Python 2",
   "language": "python",
   "name": "python2"
  },
  "language_info": {
   "codemirror_mode": {
    "name": "ipython",
    "version": 2
   },
   "file_extension": ".py",
   "mimetype": "text/x-python",
   "name": "python",
   "nbconvert_exporter": "python",
   "pygments_lexer": "ipython2",
   "version": "2.7.6"
  }
 },
 "nbformat": 4,
 "nbformat_minor": 0
}
