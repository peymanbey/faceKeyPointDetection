{
 "cells": [
  {
   "cell_type": "code",
   "execution_count": 75,
   "metadata": {
    "collapsed": true
   },
   "outputs": [],
   "source": [
    "import os\n",
    "\n",
    "import numpy as np\n",
    "from pandas.io.parsers import read_csv\n",
    "from sklearn.utils import shuffle\n",
    "\n",
    "\n",
    "FTRAIN = 'data/training.csv'\n",
    "FTEST = 'data/test.csv'"
   ]
  },
  {
   "cell_type": "markdown",
   "metadata": {},
   "source": [
    "##  read inputs, handle missing values, scale input/output, convert to float32"
   ]
  },
  {
   "cell_type": "code",
   "execution_count": 76,
   "metadata": {
    "collapsed": true
   },
   "outputs": [],
   "source": [
    "def load_data(path, test=False, col=None):\n",
    "    \"\"\" Load the data from path\n",
    "        by default it assums the training data and\n",
    "        loads all the columns\n",
    "    \"\"\"\n",
    "    df = read_csv(os.path.expanduser(path))\n",
    "    # the Image column is the pixel values separated by space\n",
    "    # convert the values to numpy array\n",
    "    df['Image'] = df['Image'].apply(lambda im: np.fromstring(im, sep=' '))\n",
    "    \n",
    "    # if you want only a subset of columns, passed as col to input\n",
    "    if col:\n",
    "        df = df[list(col)+['Image']]\n",
    "    \n",
    "    # some keypoints have missing valuses\n",
    "    # deal with them in handle_missing\n",
    "    # print(df.count())\n",
    "    df = handle_missing_values(df)\n",
    "    # print(df.count())\n",
    "    \n",
    "    # the Image column contains pixel values \n",
    "    # it is a list separated by space\n",
    "    # convert it into numpy array using np.vstack\n",
    "    # also scale them to [0, 1]\n",
    "    X = np.vstack(df['Image'].values) / 255.\n",
    "    \n",
    "    # convert values to float32\n",
    "    X = X.astype(np.float32)\n",
    "    \n",
    "    # for training data, manipulate target values\n",
    "    # scale the target values\n",
    "    # shuffle data\n",
    "    # Convert it to float 32\n",
    "    if not test:\n",
    "        y = df[df.columns[:-1]].values\n",
    "        y = (y - 48) / 48  # scale target coordinates to [-1, 1]\n",
    "        X, y = shuffle(X, y, random_state=54)  # shuffle train data\n",
    "        y = y.astype(np.float32)\n",
    "    else:\n",
    "        y = None\n",
    "\n",
    "    return X, y\n",
    "    \n",
    "def handle_missing_values(df):\n",
    "    \"\"\"For the time being, just drop all the samples with missing values\n",
    "    \"\"\"\n",
    "    newdf= df.dropna()\n",
    "    return newdf"
   ]
  },
  {
   "cell_type": "code",
   "execution_count": 77,
   "metadata": {
    "collapsed": true
   },
   "outputs": [],
   "source": [
    "X, y = load_data(FTRAIN)"
   ]
  },
  {
   "cell_type": "code",
   "execution_count": 78,
   "metadata": {
    "collapsed": false
   },
   "outputs": [
    {
     "name": "stdout",
     "output_type": "stream",
     "text": [
      "<type 'numpy.ndarray'>\n",
      "(2140, 9216)\n",
      "19722240\n"
     ]
    }
   ],
   "source": [
    "print(type(X))\n",
    "print X.shape\n",
    "print X.size"
   ]
  },
  {
   "cell_type": "markdown",
   "metadata": {
    "collapsed": true
   },
   "source": [
    "## implement a simple MLP for predictin"
   ]
  },
  {
   "cell_type": "code",
   "execution_count": null,
   "metadata": {
    "collapsed": true
   },
   "outputs": [],
   "source": []
  }
 ],
 "metadata": {
  "kernelspec": {
   "display_name": "Python 2",
   "language": "python",
   "name": "python2"
  },
  "language_info": {
   "codemirror_mode": {
    "name": "ipython",
    "version": 2
   },
   "file_extension": ".py",
   "mimetype": "text/x-python",
   "name": "python",
   "nbconvert_exporter": "python",
   "pygments_lexer": "ipython2",
   "version": "2.7.6"
  }
 },
 "nbformat": 4,
 "nbformat_minor": 0
}
