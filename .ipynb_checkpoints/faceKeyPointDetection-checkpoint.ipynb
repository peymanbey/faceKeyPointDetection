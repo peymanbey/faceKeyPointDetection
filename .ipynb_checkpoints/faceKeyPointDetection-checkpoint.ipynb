{
 "cells": [
  {
   "cell_type": "code",
   "execution_count": null,
   "metadata": {
    "collapsed": true
   },
   "outputs": [],
   "source": [
    "import os\n",
    "\n",
    "import numpy\n",
    "from pandas.io.parsers import read_csv\n",
    "from sklearn.utils import shuffle\n",
    "\n",
    "FTRAIN = 'data/training.csv'\n",
    "FTEST = 'data/test.csv'"
   ]
  },
  {
   "cell_type": "markdown",
   "metadata": {},
   "source": [
    "##  read inputs, handle missing values, scale input/output, convert to float32"
   ]
  },
  {
   "cell_type": "code",
   "execution_count": null,
   "metadata": {
    "collapsed": false
   },
   "outputs": [],
   "source": [
    "def load_data(path, test=False, col=None):\n",
    "    \"\"\" Load the data from path\n",
    "        by default it assums the training data and\n",
    "        loads all the columns\n",
    "    \"\"\"\n",
    "    df = read_csv(os.path.expanduser(path))\n",
    "    # the Image column is the pixel values separated by space\n",
    "    # convert the values to numpy array\n",
    "    df['Image'] = df['Image'].apply(lambda im: numpy.fromstring(im, sep=' '))\n",
    "    \n",
    "    # if you want only a subset of columns, passed as col to input\n",
    "    if col:\n",
    "        df = df[list(col)+['Image']]\n",
    "    \n",
    "    # some keypoints have missing valuses\n",
    "    # deal with them in handle_missing\n",
    "    # print(df.count())\n",
    "    df = handle_missing_values(df)\n",
    "    # print(df.count())\n",
    "    \n",
    "    # the Image column contains pixel values \n",
    "    # it is a list separated by space\n",
    "    # convert it into numpy array using np.vstack\n",
    "    # also scale them to [0, 1]\n",
    "    X = numpy.vstack(df['Image'].values) / 255.\n",
    "    \n",
    "    # convert values to float32\n",
    "    X = X.astype(numpy.float32)\n",
    "    \n",
    "    # for training data, manipulate target values\n",
    "    # scale the target values\n",
    "    # shuffle data\n",
    "    # Convert it to float 32\n",
    "    if not test:\n",
    "        Y = df[df.columns[:-1]].values\n",
    "        Y = (Y - 48) / 48  # scale target coordinates to [-1, 1]\n",
    "        X, Y = shuffle(X, Y, random_state =54)  # shuffle train data\n",
    "        Y = Y.astype(numpy.float32)\n",
    "    else:\n",
    "        Y = None\n",
    "\n",
    "    return X, Y\n",
    "    \n",
    "def handle_missing_values(df):\n",
    "    \"\"\"For the time being, just drop all the samples with missing values\n",
    "    \"\"\"\n",
    "    newdf= df.dropna()\n",
    "    return newdf"
   ]
  },
  {
   "cell_type": "code",
   "execution_count": null,
   "metadata": {
    "collapsed": false
   },
   "outputs": [],
   "source": [
    "X, Y = load_data(FTRAIN)"
   ]
  },
  {
   "cell_type": "code",
   "execution_count": null,
   "metadata": {
    "collapsed": false
   },
   "outputs": [],
   "source": [
    "print(type(X))\n",
    "print X.shape\n",
    "print X.size"
   ]
  },
  {
   "cell_type": "code",
   "execution_count": null,
   "metadata": {
    "collapsed": false
   },
   "outputs": [],
   "source": [
    "print(type(Y))\n",
    "print Y.shape\n",
    "print Y.size"
   ]
  },
  {
   "cell_type": "markdown",
   "metadata": {
    "collapsed": true
   },
   "source": [
    "## implement a simple MLP for predictin"
   ]
  },
  {
   "cell_type": "markdown",
   "metadata": {},
   "source": [
    "This implementation is based on Lisa-lab's tutorial on theano"
   ]
  },
  {
   "cell_type": "code",
   "execution_count": null,
   "metadata": {
    "collapsed": false
   },
   "outputs": [],
   "source": [
    "import theano\n",
    "import theano.tensor as T"
   ]
  },
  {
   "cell_type": "code",
   "execution_count": null,
   "metadata": {
    "collapsed": false
   },
   "outputs": [],
   "source": [
    "class linear_regresion(object):\n",
    "    \"\"\"multi-target linear regression \n",
    "    Fully described with weight matrix :math:'W'\n",
    "    and bias vectir :math:'b'.       \n",
    "    \"\"\"\n",
    "    def __init__(self, input, n_in,n_out):\n",
    "        \"\"\"initialize parameters of linear regression\n",
    "        :type input: theano.tensir.TensorType\n",
    "        :param input: the symbolic variable that describes\n",
    "        the input of the architecture (one minibatch)\n",
    "        \n",
    "        :type n_in: int\n",
    "        :param n_in: number of input units, the dimesion of\n",
    "        the space data points lie in\n",
    "        \n",
    "        :type n_out: int \n",
    "        :param n_out: number of output units, the number of\n",
    "        target variables to predict\n",
    "        \n",
    "        \"\"\"\n",
    "        \n",
    "        # initializing the weghts matrix by zero and shape(n_in,n_out)\n",
    "        self.W= theano.shared(\n",
    "            value=numpy.zeros(\n",
    "                (n_in,n_out),\n",
    "                dtype=theano.config.floatX\n",
    "            ),\n",
    "            name='W',\n",
    "            borrow=True\n",
    "        )\n",
    "        # initialize bias\n",
    "        self.b = theano.shared(\n",
    "            value=numpy.zeros(\n",
    "                (n_out,),\n",
    "                dtype=theano.config.floatX\n",
    "            ),\n",
    "            name='b',\n",
    "            borrow=True\n",
    "        )\n",
    "       \n",
    "        # symbolic expression of computing the output using W and b\n",
    "        self.y_pred=T.dot(input,self.W)+self.b# make sure it is correct\n",
    "        \n",
    "        # parameters of the model\n",
    "        self.param=[self.W,self.b]\n",
    "        \n",
    "        # keep track of model input\n",
    "        self.input=input\n",
    "        \n",
    "        # define the loss function\n",
    "    def loss_MSE(self,y):\n",
    "        \"\"\"returns the MSE error of prediction of the model\n",
    "        :type y: theano.tensor.TensorType\n",
    "        :param y: the vector that gives each samples correct prediction value\n",
    "        \"\"\"\n",
    "        #  T.sum(T.sqr(targets-outputs),axis=1) \n",
    "        # I use averaging to         \n",
    "        return T.mean(T.sqr(y-self.y_pred))#,axis=[0,1])\n",
    "    def errors(self, y):\n",
    "        \"\"\"return the number of errors in minibatch\n",
    "        \n",
    "        :type y: theano.tensor.TensorType\n",
    "        :param y: corresponds to a vector that gives for each example \n",
    "        the correct target values\n",
    "        \"\"\"\n",
    "        # check if the dimension of y and y_pred is the same\n",
    "        if y.ndim != self.y_pred.ndim:\n",
    "            raise TypeError(\n",
    "                'y should have the same shape as self.y_pred',\n",
    "                ('y',y.type, 'y_pred', self.y_pred.type)\n",
    "            )\n",
    "        return T.mean(T.neq(self.y_pred,y))\n",
    "        "
   ]
  },
  {
   "cell_type": "code",
   "execution_count": null,
   "metadata": {
    "collapsed": true
   },
   "outputs": [],
   "source": [
    "def shared_dataset(X,y,borrow=True):\n",
    "    \"\"\"Load data into shared variables    \n",
    "    \"\"\"\n",
    "    shared_x=theano.shared(numpy.asarray(X,\n",
    "                                        dtype=theano.config.floatX),\n",
    "                          borrow=borrow)\n",
    "    shared_y= theano.shared(numpy.asarray(y,\n",
    "                                        dtype=theano.config.floatX),\n",
    "                          borrow=borrow)\n",
    "    return shared_x, shared_y"
   ]
  },
  {
   "cell_type": "code",
   "execution_count": null,
   "metadata": {
    "collapsed": false
   },
   "outputs": [],
   "source": [
    "train_set_x, train_set_y = shared_dataset(X,Y)"
   ]
  },
  {
   "cell_type": "markdown",
   "metadata": {},
   "source": [
    "### sgd optimization"
   ]
  },
  {
   "cell_type": "code",
   "execution_count": null,
   "metadata": {
    "collapsed": true
   },
   "outputs": [],
   "source": [
    "learning_rate=0.01\n",
    "n_epochs=10\n",
    "batch_size=20"
   ]
  },
  {
   "cell_type": "code",
   "execution_count": null,
   "metadata": {
    "collapsed": true
   },
   "outputs": [],
   "source": [
    "#compute the number of mini batches\n",
    "n_train_batches= train_set_x.get_value(borrow=True).shape[0] // batch_size\n"
   ]
  },
  {
   "cell_type": "code",
   "execution_count": null,
   "metadata": {
    "collapsed": false
   },
   "outputs": [],
   "source": [
    "print('...building the model')\n",
    "\n",
    "# allocate symbolic variable for data\n",
    "index = T.lscalar()\n",
    "\n",
    "# generate symbolic variable for data - x, y represent a single batch\n",
    "x= T.matrix('x')\n",
    "y=T.matrix('y')\n",
    "\n",
    "# construct the regressor\n",
    "linear_regressor = linear_regresion(input=x , n_in= 96 * 96, n_out=30)"
   ]
  },
  {
   "cell_type": "code",
   "execution_count": null,
   "metadata": {
    "collapsed": false
   },
   "outputs": [],
   "source": [
    "# the cost we minimise is MSE\n",
    "cost = linear_regressor.loss_MSE(y)"
   ]
  },
  {
   "cell_type": "code",
   "execution_count": null,
   "metadata": {
    "collapsed": false
   },
   "outputs": [],
   "source": [
    "# compute the gradient of cost\n",
    "g_W = T.grad(cost=cost, wrt= linear_regressor.W)\n",
    "g_b = T.grad(cost=cost, wrt= linear_regressor.b)"
   ]
  },
  {
   "cell_type": "code",
   "execution_count": null,
   "metadata": {
    "collapsed": true
   },
   "outputs": [],
   "source": [
    "# how to update parameters of the model\n",
    "updates=[(linear_regressor.W, linear_regressor.W - learning_rate * g_W),\n",
    "        (linear_regressor.b, linear_regressor.b - learning_rate * g_b)]\n"
   ]
  },
  {
   "cell_type": "code",
   "execution_count": null,
   "metadata": {
    "collapsed": false
   },
   "outputs": [],
   "source": [
    "# compile a theano function that concurrently returns the cost\n",
    "# and updates the model based on the update rules in updates\n",
    "train_modle = theano.function(\n",
    "    inputs=[index],\n",
    "    outputs=cost,\n",
    "    updates=updates,\n",
    "    givens={\n",
    "        x: train_set_x[index * batch_size: (index + 1) * batch_size],\n",
    "        y: train_set_y[index * batch_size: (index + 1) * batch_size]\n",
    "    }\n",
    ")"
   ]
  },
  {
   "cell_type": "code",
   "execution_count": null,
   "metadata": {
    "collapsed": true
   },
   "outputs": [],
   "source": [
    "# single run of the algorithm\n",
    "for iter in range(n_epochs): \n",
    "    for minibatch_index in range(n_train_batches):\n",
    "        minibatch_avg_cost = train_modle(minibatch_index)\n",
    "        print minibatch_avg_cost"
   ]
  },
  {
   "cell_type": "code",
   "execution_count": null,
   "metadata": {
    "collapsed": true
   },
   "outputs": [],
   "source": [
    "# run with early stopping"
   ]
  },
  {
   "cell_type": "code",
   "execution_count": null,
   "metadata": {
    "collapsed": true
   },
   "outputs": [],
   "source": []
  }
 ],
 "metadata": {
  "kernelspec": {
   "display_name": "Python 2",
   "language": "python",
   "name": "python2"
  },
  "language_info": {
   "codemirror_mode": {
    "name": "ipython",
    "version": 2
   },
   "file_extension": ".py",
   "mimetype": "text/x-python",
   "name": "python",
   "nbconvert_exporter": "python",
   "pygments_lexer": "ipython2",
   "version": "2.7.6"
  }
 },
 "nbformat": 4,
 "nbformat_minor": 0
}
